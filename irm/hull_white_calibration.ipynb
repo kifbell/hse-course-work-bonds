{
 "cells": [
  {
   "cell_type": "code",
   "execution_count": 1,
   "outputs": [],
   "source": [
    "%load_ext autoreload\n",
    "%autoreload 2"
   ],
   "metadata": {
    "collapsed": false
   }
  },
  {
   "cell_type": "code",
   "execution_count": 2,
   "outputs": [],
   "source": [
    "from pandas import DataFrame\n",
    "from QuantLib import Actual360\n",
    "from QuantLib import Period\n",
    "from QuantLib import QuoteHandle\n",
    "from QuantLib import SimpleQuote\n",
    "from QuantLib import SwaptionHelper\n",
    "from QuantLib import Years\n",
    "from collections import namedtuple\n",
    "import math\n",
    "from pandas import DataFrame\n",
    "\n",
    "import pandas as pd\n",
    "from hull_white_callibration import create_swaption_helpers\n",
    "from hull_white_callibration import calibration_report"
   ],
   "metadata": {
    "collapsed": false
   }
  },
  {
   "cell_type": "code",
   "execution_count": 3,
   "outputs": [],
   "source": [
    "from hacksad.misc import today\n",
    "\n",
    "date = today()\n",
    "date = today() - pd.Timedelta(days=2)"
   ],
   "metadata": {
    "collapsed": false
   }
  },
  {
   "cell_type": "code",
   "execution_count": 4,
   "outputs": [],
   "source": [
    "from backtestad.instruments.bonds.universe import BondUniverse\n",
    "from backtestad.backtest.declarators.declarator import BacktesterDeclarator\n",
    "\n",
    "container = BacktesterDeclarator(\n",
    "    pd.Timestamp(\"2020-01-01\"),\n",
    "    today(),\n",
    "    bond_universe=BondUniverse(\n",
    "        country=(\"RU\",),\n",
    "        security_type=(\n",
    "            \"Корп\",\n",
    "            \"Гос\",\n",
    "        ),\n",
    "        ccy=(\"RUB\",),\n",
    "    ),\n",
    ")\n",
    "\n",
    "container.current_date = date\n",
    "from backtestad.instruments.bonds.bond import Bond\n",
    "\n",
    "bond = container.instruments.bond(\"RUB\", \"face_isin\")"
   ],
   "metadata": {
    "collapsed": false
   }
  },
  {
   "cell_type": "code",
   "execution_count": 5,
   "outputs": [],
   "source": [
    "nss_curve = bond._curve_data.get_ql_curve(today())"
   ],
   "metadata": {
    "collapsed": false
   }
  },
  {
   "cell_type": "code",
   "execution_count": 18,
   "outputs": [
    {
     "data": {
      "text/plain": "[<matplotlib.lines.Line2D at 0x13121b050>]"
     },
     "execution_count": 18,
     "metadata": {},
     "output_type": "execute_result"
    },
    {
     "data": {
      "text/plain": "<Figure size 640x480 with 1 Axes>",
      "image/png": "[encoded data removed]"
     },
     "metadata": {},
     "output_type": "display_data"
    }
   ],
   "source": [
    "from matplotlib import pyplot as plt\n",
    "import numpy as np\n",
    "\n",
    "mat = np.arange(0, 20, 0.2)\n",
    "plt.plot(mat, bond._curve_data.risk_free_curve(mat))"
   ],
   "metadata": {
    "collapsed": false
   }
  },
  {
   "cell_type": "code",
   "execution_count": 6,
   "metadata": {
    "collapsed": true
   },
   "outputs": [],
   "source": [
    "from dataclasses import dataclass\n",
    "import pandas as pd\n",
    "import QuantLib as ql\n",
    "from QuantLib import Settings\n",
    "from hacksad.misc import today\n",
    "\n",
    "\n",
    "ql_today = ql.Date(date.day, date.month, date.year)\n",
    "settlement = date + pd.Timedelta(weeks=53 * 10)\n",
    "settlement = ql.Date(settlement.day, settlement.month, settlement.year)\n",
    "ql.Settings.instance().evaluationDate = ql_today\n",
    "term_structure = ql.YieldTermStructureHandle(\n",
    "    nss_curve\n",
    "    # ql.FlatForward(settlement, 0.04875825, ql.Actual365Fixed())\n",
    ")\n",
    "# index  = term_structure\n",
    "index = ql.Euribor1Y(term_structure)\n",
    "\n",
    "\n",
    "@dataclass\n",
    "class CalibrationData:\n",
    "    start: ql.Date  # maturity\n",
    "    length: ql.Period  # length\n",
    "    volatility: float"
   ]
  },
  {
   "cell_type": "code",
   "execution_count": 7,
   "outputs": [
    {
     "data": {
      "text/plain": "<QuantLib.QuantLib.Euribor1Y; proxy of <Swig Object of type 'ext::shared_ptr< Euribor1Y > *' at 0x177bdda10> >"
     },
     "execution_count": 7,
     "metadata": {},
     "output_type": "execute_result"
    }
   ],
   "source": [
    "index"
   ],
   "metadata": {
    "collapsed": false
   }
  },
  {
   "cell_type": "code",
   "execution_count": 8,
   "outputs": [],
   "source": [
    "from irm.swaption import get_swaption_volatility_data\n",
    "\n",
    "import pandas as pd\n",
    "\n",
    "from backtestad.db.sql.interest_rates import get_rate\n",
    "\n",
    "\n",
    "volatility = get_swaption_volatility_data().dropna()"
   ],
   "metadata": {
    "collapsed": false
   }
  },
  {
   "cell_type": "code",
   "execution_count": 9,
   "outputs": [
    {
     "data": {
      "text/plain": "Timestamp('2023-11-24 00:00:00')"
     },
     "execution_count": 9,
     "metadata": {},
     "output_type": "execute_result"
    }
   ],
   "source": [
    "date"
   ],
   "metadata": {
    "collapsed": false
   }
  },
  {
   "cell_type": "code",
   "execution_count": 36,
   "outputs": [
    {
     "data": {
      "text/plain": "[CalibrationData(start=Date(24,11,2023), length=Period(\"1M\"), volatility=5.9485365479539505),\n CalibrationData(start=Date(24,11,2023), length=Period(\"1W\"), volatility=4.878324208851185),\n CalibrationData(start=Date(24,11,2023), length=Period(\"1Y\"), volatility=3.3278370903047803),\n CalibrationData(start=Date(24,11,2023), length=Period(\"2M\"), volatility=5.537561945271509),\n CalibrationData(start=Date(24,11,2023), length=Period(\"2Y\"), volatility=1.6119216950112998),\n CalibrationData(start=Date(24,11,2023), length=Period(\"3M\"), volatility=5.866909015320375),\n CalibrationData(start=Date(24,11,2023), length=Period(\"3Y\"), volatility=1.942956644491365),\n CalibrationData(start=Date(24,11,2023), length=Period(\"4Y\"), volatility=1.96759178773918),\n CalibrationData(start=Date(24,11,2023), length=Period(\"5Y\"), volatility=1.630485180885455),\n CalibrationData(start=Date(24,11,2023), length=Period(\"6M\"), volatility=5.093555789622191),\n CalibrationData(start=Date(24,11,2023), length=Period(\"9M\"), volatility=3.817544603135831),\n CalibrationData(start=Date(24,11,2023), length=Period(\"1D\"), volatility=0.4040674913531897)]"
     },
     "execution_count": 36,
     "metadata": {},
     "output_type": "execute_result"
    }
   ],
   "source": [
    "# data = [\n",
    "#     CalibrationData(\n",
    "#         ql.Date(date.day, date.month, date.year), ql.Period(tenor), vola\n",
    "#     )\n",
    "#     for tenor, vola in volatility.reset_index([\"tenor\"]).values\n",
    "# ]\n",
    "\n",
    "external_val = {\n",
    "    \"01M\": 5.9485365479539505,\n",
    "    \"01W\": 4.878324208851185,\n",
    "    \"01Y\": 3.3278370903047803,\n",
    "    \"02M\": 5.537561945271509,\n",
    "    \"02Y\": 1.6119216950112998,\n",
    "    \"03M\": 5.866909015320375,\n",
    "    \"03Y\": 1.942956644491365,\n",
    "    \"04Y\": 1.96759178773918,\n",
    "    \"05Y\": 1.630485180885455,\n",
    "    \"06M\": 5.093555789622191,\n",
    "    \"09M\": 3.817544603135831,\n",
    "    \"1D\": 0.4040674913531897,\n",
    "}\n",
    "\n",
    "data = [\n",
    "    CalibrationData(ql.Date(date.day, date.month, date.year), ql.Period(tenor), vola)\n",
    "    for tenor, vola in external_val.items()\n",
    "]\n",
    "\n",
    "\n",
    "data"
   ],
   "metadata": {
    "collapsed": false
   }
  },
  {
   "cell_type": "code",
   "execution_count": 35,
   "outputs": [],
   "source": [],
   "metadata": {
    "collapsed": false
   }
  },
  {
   "cell_type": "code",
   "execution_count": 37,
   "outputs": [],
   "source": [
    "# data = [\n",
    "#     CalibrationData(start = 1, length = 5, volatility = 0.1148),\n",
    "#     CalibrationData(start = 2,length =  4, volatility = 0.1108),\n",
    "#     CalibrationData(start = 3,length =  3, volatility = 0.1070),\n",
    "#     CalibrationData(start = 4,length =  2, volatility = 0.1021),\n",
    "#     CalibrationData(start = 5, length = 1, volatility = 0.1000),\n",
    "# ]\n",
    "\n",
    "\n",
    "model = ql.HullWhite(term_structure)\n",
    "engine = ql.JamshidianSwaptionEngine(model)\n",
    "swaptions = create_swaption_helpers(data, index, term_structure, engine)"
   ],
   "metadata": {
    "collapsed": false
   }
  },
  {
   "cell_type": "code",
   "execution_count": null,
   "outputs": [],
   "source": [
    "optimization_method = ql.LevenbergMarquardt(1.0e-8, 1.0e-8, 1.0e-8)\n",
    "end_criteria = ql.EndCriteria(10000, 100, 1e-6, 1e-8, 1e-8)\n",
    "result = model.calibrate(swaptions, optimization_method, end_criteria)\n",
    "a, sigma = model.params()\n",
    "print(\"a = %6.5f, sigma = %6.5f\" % (a, sigma))"
   ],
   "metadata": {
    "collapsed": false
   }
  },
  {
   "cell_type": "code",
   "execution_count": 12,
   "outputs": [
    {
     "ename": "ZeroDivisionError",
     "evalue": "float division by zero",
     "output_type": "error",
     "traceback": [
      "\u001B[0;31m---------------------------------------------------------------------------\u001B[0m",
      "\u001B[0;31mZeroDivisionError\u001B[0m                         Traceback (most recent call last)",
      "Cell \u001B[0;32mIn[12], line 1\u001B[0m\n\u001B[0;32m----> 1\u001B[0m \u001B[43mcalibration_report\u001B[49m\u001B[43m(\u001B[49m\u001B[43mswaptions\u001B[49m\u001B[43m,\u001B[49m\u001B[43m \u001B[49m\u001B[43mdata\u001B[49m\u001B[43m)\u001B[49m\n",
      "File \u001B[0;32m~/dev/hse/hse-course-work-bonds/irm/hull_white_callibration.py:51\u001B[0m, in \u001B[0;36mcalibration_report\u001B[0;34m(swaptions, data)\u001B[0m\n\u001B[1;32m     49\u001B[0m market_vol \u001B[38;5;241m=\u001B[39m data[i]\u001B[38;5;241m.\u001B[39mvolatility\n\u001B[1;32m     50\u001B[0m black_price \u001B[38;5;241m=\u001B[39m s\u001B[38;5;241m.\u001B[39mblackPrice(market_vol)\n\u001B[0;32m---> 51\u001B[0m rel_error \u001B[38;5;241m=\u001B[39m \u001B[43mmodel_price\u001B[49m\u001B[43m \u001B[49m\u001B[38;5;241;43m/\u001B[39;49m\u001B[43m \u001B[49m\u001B[43mblack_price\u001B[49m \u001B[38;5;241m-\u001B[39m \u001B[38;5;241m1.0\u001B[39m\n\u001B[1;32m     52\u001B[0m implied_vol \u001B[38;5;241m=\u001B[39m s\u001B[38;5;241m.\u001B[39mimpliedVolatility(model_price, \u001B[38;5;241m1e-5\u001B[39m, \u001B[38;5;241m50\u001B[39m, \u001B[38;5;241m0.0\u001B[39m, \u001B[38;5;241m0.50\u001B[39m)\n\u001B[1;32m     53\u001B[0m rel_error2 \u001B[38;5;241m=\u001B[39m implied_vol \u001B[38;5;241m/\u001B[39m market_vol \u001B[38;5;241m-\u001B[39m \u001B[38;5;241m1.0\u001B[39m\n",
      "\u001B[0;31mZeroDivisionError\u001B[0m: float division by zero"
     ]
    }
   ],
   "source": [
    "calibration_report(swaptions, data)"
   ],
   "metadata": {
    "collapsed": false
   }
  },
  {
   "cell_type": "code",
   "execution_count": null,
   "outputs": [],
   "source": [
    "type(result)"
   ],
   "metadata": {
    "collapsed": false
   }
  },
  {
   "cell_type": "code",
   "execution_count": null,
   "outputs": [],
   "source": [],
   "metadata": {
    "collapsed": false
   }
  },
  {
   "cell_type": "code",
   "execution_count": 54,
   "outputs": [
    {
     "ename": "TypeError",
     "evalue": "'SwaptionHelper' object is not callable",
     "output_type": "error",
     "traceback": [
      "\u001B[0;31m---------------------------------------------------------------------------\u001B[0m",
      "\u001B[0;31mTypeError\u001B[0m                                 Traceback (most recent call last)",
      "Cell \u001B[0;32mIn[54], line 64\u001B[0m\n\u001B[1;32m     61\u001B[0m initial_params \u001B[38;5;241m=\u001B[39m [\u001B[38;5;241m0.01\u001B[39m, \u001B[38;5;241m0.1\u001B[39m]  \u001B[38;5;66;03m# mean reversion, volatility\u001B[39;00m\n\u001B[1;32m     63\u001B[0m \u001B[38;5;66;03m# Perform calibration\u001B[39;00m\n\u001B[0;32m---> 64\u001B[0m result \u001B[38;5;241m=\u001B[39m \u001B[43mminimize\u001B[49m\u001B[43m(\u001B[49m\n\u001B[1;32m     65\u001B[0m \u001B[43m    \u001B[49m\u001B[43mobjective_function\u001B[49m\u001B[43m,\u001B[49m\n\u001B[1;32m     66\u001B[0m \u001B[43m    \u001B[49m\u001B[43minitial_params\u001B[49m\u001B[43m,\u001B[49m\n\u001B[1;32m     67\u001B[0m \u001B[43m    \u001B[49m\u001B[43margs\u001B[49m\u001B[38;5;241;43m=\u001B[39;49m\u001B[43m(\u001B[49m\u001B[43mswaption_helpers\u001B[49m\u001B[43m,\u001B[49m\u001B[43m \u001B[49m\u001B[43m[\u001B[49m\u001B[43mswaption_vol\u001B[49m\u001B[38;5;241;43m.\u001B[39;49m\u001B[43mvalue\u001B[49m\u001B[43m(\u001B[49m\u001B[43m)\u001B[49m\u001B[43m \u001B[49m\u001B[38;5;28;43;01mfor\u001B[39;49;00m\u001B[43m \u001B[49m\u001B[43m_\u001B[49m\u001B[43m \u001B[49m\u001B[38;5;129;43;01min\u001B[39;49;00m\u001B[43m \u001B[49m\u001B[43mswaption_helpers\u001B[49m\u001B[43m]\u001B[49m\u001B[43m)\u001B[49m\u001B[43m,\u001B[49m\n\u001B[1;32m     68\u001B[0m \u001B[43m)\u001B[49m\n\u001B[1;32m     70\u001B[0m \u001B[38;5;66;03m# Extract calibrated parameters\u001B[39;00m\n\u001B[1;32m     71\u001B[0m calibrated_mean_reversion, calibrated_volatility \u001B[38;5;241m=\u001B[39m result\u001B[38;5;241m.\u001B[39mx\n",
      "File \u001B[0;32m/Library/Frameworks/Python.framework/Versions/3.11/lib/python3.11/site-packages/scipy/optimize/_minimize.py:705\u001B[0m, in \u001B[0;36mminimize\u001B[0;34m(fun, x0, args, method, jac, hess, hessp, bounds, constraints, tol, callback, options)\u001B[0m\n\u001B[1;32m    703\u001B[0m     res \u001B[38;5;241m=\u001B[39m _minimize_cg(fun, x0, args, jac, callback, \u001B[38;5;241m*\u001B[39m\u001B[38;5;241m*\u001B[39moptions)\n\u001B[1;32m    704\u001B[0m \u001B[38;5;28;01melif\u001B[39;00m meth \u001B[38;5;241m==\u001B[39m \u001B[38;5;124m'\u001B[39m\u001B[38;5;124mbfgs\u001B[39m\u001B[38;5;124m'\u001B[39m:\n\u001B[0;32m--> 705\u001B[0m     res \u001B[38;5;241m=\u001B[39m \u001B[43m_minimize_bfgs\u001B[49m\u001B[43m(\u001B[49m\u001B[43mfun\u001B[49m\u001B[43m,\u001B[49m\u001B[43m \u001B[49m\u001B[43mx0\u001B[49m\u001B[43m,\u001B[49m\u001B[43m \u001B[49m\u001B[43margs\u001B[49m\u001B[43m,\u001B[49m\u001B[43m \u001B[49m\u001B[43mjac\u001B[49m\u001B[43m,\u001B[49m\u001B[43m \u001B[49m\u001B[43mcallback\u001B[49m\u001B[43m,\u001B[49m\u001B[43m \u001B[49m\u001B[38;5;241;43m*\u001B[39;49m\u001B[38;5;241;43m*\u001B[39;49m\u001B[43moptions\u001B[49m\u001B[43m)\u001B[49m\n\u001B[1;32m    706\u001B[0m \u001B[38;5;28;01melif\u001B[39;00m meth \u001B[38;5;241m==\u001B[39m \u001B[38;5;124m'\u001B[39m\u001B[38;5;124mnewton-cg\u001B[39m\u001B[38;5;124m'\u001B[39m:\n\u001B[1;32m    707\u001B[0m     res \u001B[38;5;241m=\u001B[39m _minimize_newtoncg(fun, x0, args, jac, hess, hessp, callback,\n\u001B[1;32m    708\u001B[0m                              \u001B[38;5;241m*\u001B[39m\u001B[38;5;241m*\u001B[39moptions)\n",
      "File \u001B[0;32m/Library/Frameworks/Python.framework/Versions/3.11/lib/python3.11/site-packages/scipy/optimize/_optimize.py:1419\u001B[0m, in \u001B[0;36m_minimize_bfgs\u001B[0;34m(fun, x0, args, jac, callback, gtol, norm, eps, maxiter, disp, return_all, finite_diff_rel_step, xrtol, **unknown_options)\u001B[0m\n\u001B[1;32m   1416\u001B[0m \u001B[38;5;28;01mif\u001B[39;00m maxiter \u001B[38;5;129;01mis\u001B[39;00m \u001B[38;5;28;01mNone\u001B[39;00m:\n\u001B[1;32m   1417\u001B[0m     maxiter \u001B[38;5;241m=\u001B[39m \u001B[38;5;28mlen\u001B[39m(x0) \u001B[38;5;241m*\u001B[39m \u001B[38;5;241m200\u001B[39m\n\u001B[0;32m-> 1419\u001B[0m sf \u001B[38;5;241m=\u001B[39m \u001B[43m_prepare_scalar_function\u001B[49m\u001B[43m(\u001B[49m\u001B[43mfun\u001B[49m\u001B[43m,\u001B[49m\u001B[43m \u001B[49m\u001B[43mx0\u001B[49m\u001B[43m,\u001B[49m\u001B[43m \u001B[49m\u001B[43mjac\u001B[49m\u001B[43m,\u001B[49m\u001B[43m \u001B[49m\u001B[43margs\u001B[49m\u001B[38;5;241;43m=\u001B[39;49m\u001B[43margs\u001B[49m\u001B[43m,\u001B[49m\u001B[43m \u001B[49m\u001B[43mepsilon\u001B[49m\u001B[38;5;241;43m=\u001B[39;49m\u001B[43meps\u001B[49m\u001B[43m,\u001B[49m\n\u001B[1;32m   1420\u001B[0m \u001B[43m                              \u001B[49m\u001B[43mfinite_diff_rel_step\u001B[49m\u001B[38;5;241;43m=\u001B[39;49m\u001B[43mfinite_diff_rel_step\u001B[49m\u001B[43m)\u001B[49m\n\u001B[1;32m   1422\u001B[0m f \u001B[38;5;241m=\u001B[39m sf\u001B[38;5;241m.\u001B[39mfun\n\u001B[1;32m   1423\u001B[0m myfprime \u001B[38;5;241m=\u001B[39m sf\u001B[38;5;241m.\u001B[39mgrad\n",
      "File \u001B[0;32m/Library/Frameworks/Python.framework/Versions/3.11/lib/python3.11/site-packages/scipy/optimize/_optimize.py:383\u001B[0m, in \u001B[0;36m_prepare_scalar_function\u001B[0;34m(fun, x0, jac, args, bounds, epsilon, finite_diff_rel_step, hess)\u001B[0m\n\u001B[1;32m    379\u001B[0m     bounds \u001B[38;5;241m=\u001B[39m (\u001B[38;5;241m-\u001B[39mnp\u001B[38;5;241m.\u001B[39minf, np\u001B[38;5;241m.\u001B[39minf)\n\u001B[1;32m    381\u001B[0m \u001B[38;5;66;03m# ScalarFunction caches. Reuse of fun(x) during grad\u001B[39;00m\n\u001B[1;32m    382\u001B[0m \u001B[38;5;66;03m# calculation reduces overall function evaluations.\u001B[39;00m\n\u001B[0;32m--> 383\u001B[0m sf \u001B[38;5;241m=\u001B[39m \u001B[43mScalarFunction\u001B[49m\u001B[43m(\u001B[49m\u001B[43mfun\u001B[49m\u001B[43m,\u001B[49m\u001B[43m \u001B[49m\u001B[43mx0\u001B[49m\u001B[43m,\u001B[49m\u001B[43m \u001B[49m\u001B[43margs\u001B[49m\u001B[43m,\u001B[49m\u001B[43m \u001B[49m\u001B[43mgrad\u001B[49m\u001B[43m,\u001B[49m\u001B[43m \u001B[49m\u001B[43mhess\u001B[49m\u001B[43m,\u001B[49m\n\u001B[1;32m    384\u001B[0m \u001B[43m                    \u001B[49m\u001B[43mfinite_diff_rel_step\u001B[49m\u001B[43m,\u001B[49m\u001B[43m \u001B[49m\u001B[43mbounds\u001B[49m\u001B[43m,\u001B[49m\u001B[43m \u001B[49m\u001B[43mepsilon\u001B[49m\u001B[38;5;241;43m=\u001B[39;49m\u001B[43mepsilon\u001B[49m\u001B[43m)\u001B[49m\n\u001B[1;32m    386\u001B[0m \u001B[38;5;28;01mreturn\u001B[39;00m sf\n",
      "File \u001B[0;32m/Library/Frameworks/Python.framework/Versions/3.11/lib/python3.11/site-packages/scipy/optimize/_differentiable_functions.py:158\u001B[0m, in \u001B[0;36mScalarFunction.__init__\u001B[0;34m(self, fun, x0, args, grad, hess, finite_diff_rel_step, finite_diff_bounds, epsilon)\u001B[0m\n\u001B[1;32m    155\u001B[0m     \u001B[38;5;28mself\u001B[39m\u001B[38;5;241m.\u001B[39mf \u001B[38;5;241m=\u001B[39m fun_wrapped(\u001B[38;5;28mself\u001B[39m\u001B[38;5;241m.\u001B[39mx)\n\u001B[1;32m    157\u001B[0m \u001B[38;5;28mself\u001B[39m\u001B[38;5;241m.\u001B[39m_update_fun_impl \u001B[38;5;241m=\u001B[39m update_fun\n\u001B[0;32m--> 158\u001B[0m \u001B[38;5;28;43mself\u001B[39;49m\u001B[38;5;241;43m.\u001B[39;49m\u001B[43m_update_fun\u001B[49m\u001B[43m(\u001B[49m\u001B[43m)\u001B[49m\n\u001B[1;32m    160\u001B[0m \u001B[38;5;66;03m# Gradient evaluation\u001B[39;00m\n\u001B[1;32m    161\u001B[0m \u001B[38;5;28;01mif\u001B[39;00m \u001B[38;5;28mcallable\u001B[39m(grad):\n",
      "File \u001B[0;32m/Library/Frameworks/Python.framework/Versions/3.11/lib/python3.11/site-packages/scipy/optimize/_differentiable_functions.py:251\u001B[0m, in \u001B[0;36mScalarFunction._update_fun\u001B[0;34m(self)\u001B[0m\n\u001B[1;32m    249\u001B[0m \u001B[38;5;28;01mdef\u001B[39;00m \u001B[38;5;21m_update_fun\u001B[39m(\u001B[38;5;28mself\u001B[39m):\n\u001B[1;32m    250\u001B[0m     \u001B[38;5;28;01mif\u001B[39;00m \u001B[38;5;129;01mnot\u001B[39;00m \u001B[38;5;28mself\u001B[39m\u001B[38;5;241m.\u001B[39mf_updated:\n\u001B[0;32m--> 251\u001B[0m         \u001B[38;5;28;43mself\u001B[39;49m\u001B[38;5;241;43m.\u001B[39;49m\u001B[43m_update_fun_impl\u001B[49m\u001B[43m(\u001B[49m\u001B[43m)\u001B[49m\n\u001B[1;32m    252\u001B[0m         \u001B[38;5;28mself\u001B[39m\u001B[38;5;241m.\u001B[39mf_updated \u001B[38;5;241m=\u001B[39m \u001B[38;5;28;01mTrue\u001B[39;00m\n",
      "File \u001B[0;32m/Library/Frameworks/Python.framework/Versions/3.11/lib/python3.11/site-packages/scipy/optimize/_differentiable_functions.py:155\u001B[0m, in \u001B[0;36mScalarFunction.__init__.<locals>.update_fun\u001B[0;34m()\u001B[0m\n\u001B[1;32m    154\u001B[0m \u001B[38;5;28;01mdef\u001B[39;00m \u001B[38;5;21mupdate_fun\u001B[39m():\n\u001B[0;32m--> 155\u001B[0m     \u001B[38;5;28mself\u001B[39m\u001B[38;5;241m.\u001B[39mf \u001B[38;5;241m=\u001B[39m \u001B[43mfun_wrapped\u001B[49m\u001B[43m(\u001B[49m\u001B[38;5;28;43mself\u001B[39;49m\u001B[38;5;241;43m.\u001B[39;49m\u001B[43mx\u001B[49m\u001B[43m)\u001B[49m\n",
      "File \u001B[0;32m/Library/Frameworks/Python.framework/Versions/3.11/lib/python3.11/site-packages/scipy/optimize/_differentiable_functions.py:137\u001B[0m, in \u001B[0;36mScalarFunction.__init__.<locals>.fun_wrapped\u001B[0;34m(x)\u001B[0m\n\u001B[1;32m    133\u001B[0m \u001B[38;5;28mself\u001B[39m\u001B[38;5;241m.\u001B[39mnfev \u001B[38;5;241m+\u001B[39m\u001B[38;5;241m=\u001B[39m \u001B[38;5;241m1\u001B[39m\n\u001B[1;32m    134\u001B[0m \u001B[38;5;66;03m# Send a copy because the user may overwrite it.\u001B[39;00m\n\u001B[1;32m    135\u001B[0m \u001B[38;5;66;03m# Overwriting results in undefined behaviour because\u001B[39;00m\n\u001B[1;32m    136\u001B[0m \u001B[38;5;66;03m# fun(self.x) will change self.x, with the two no longer linked.\u001B[39;00m\n\u001B[0;32m--> 137\u001B[0m fx \u001B[38;5;241m=\u001B[39m \u001B[43mfun\u001B[49m\u001B[43m(\u001B[49m\u001B[43mnp\u001B[49m\u001B[38;5;241;43m.\u001B[39;49m\u001B[43mcopy\u001B[49m\u001B[43m(\u001B[49m\u001B[43mx\u001B[49m\u001B[43m)\u001B[49m\u001B[43m,\u001B[49m\u001B[43m \u001B[49m\u001B[38;5;241;43m*\u001B[39;49m\u001B[43margs\u001B[49m\u001B[43m)\u001B[49m\n\u001B[1;32m    138\u001B[0m \u001B[38;5;66;03m# Make sure the function returns a true scalar\u001B[39;00m\n\u001B[1;32m    139\u001B[0m \u001B[38;5;28;01mif\u001B[39;00m \u001B[38;5;129;01mnot\u001B[39;00m np\u001B[38;5;241m.\u001B[39misscalar(fx):\n",
      "Cell \u001B[0;32mIn[54], line 27\u001B[0m, in \u001B[0;36mobjective_function\u001B[0;34m(params, swaptions, market_vols)\u001B[0m\n\u001B[1;32m     23\u001B[0m hw_process \u001B[38;5;241m=\u001B[39m ql\u001B[38;5;241m.\u001B[39mHullWhiteProcess(term_structure, mean_reversion, volatility)\n\u001B[1;32m     24\u001B[0m \u001B[38;5;66;03m# hw_model = ql.HullWhite(hw_process)\u001B[39;00m\n\u001B[1;32m     25\u001B[0m \n\u001B[1;32m     26\u001B[0m \u001B[38;5;66;03m# Calculate model-implied volatilities\u001B[39;00m\n\u001B[0;32m---> 27\u001B[0m model_vols \u001B[38;5;241m=\u001B[39m \u001B[43m[\u001B[49m\n\u001B[1;32m     28\u001B[0m \u001B[43m    \u001B[49m\u001B[38;5;66;43;03m# np.sqrt(black_price(swaption, volatility) / swaption.annuity(0))\u001B[39;49;00m\n\u001B[1;32m     29\u001B[0m \u001B[43m    \u001B[49m\u001B[43mnp\u001B[49m\u001B[38;5;241;43m.\u001B[39;49m\u001B[43msqrt\u001B[49m\u001B[43m(\u001B[49m\u001B[43mblack_price\u001B[49m\u001B[43m(\u001B[49m\u001B[43mswaption\u001B[49m\u001B[43m,\u001B[49m\u001B[43m \u001B[49m\u001B[43mvolatility\u001B[49m\u001B[43m)\u001B[49m\u001B[43m \u001B[49m\u001B[38;5;241;43m/\u001B[39;49m\u001B[43m \u001B[49m\u001B[43mswaption\u001B[49m\u001B[43m(\u001B[49m\u001B[43m)\u001B[49m\u001B[43m)\u001B[49m\n\u001B[1;32m     30\u001B[0m \u001B[43m    \u001B[49m\u001B[38;5;28;43;01mfor\u001B[39;49;00m\u001B[43m \u001B[49m\u001B[43mswaption\u001B[49m\u001B[43m \u001B[49m\u001B[38;5;129;43;01min\u001B[39;49;00m\u001B[43m \u001B[49m\u001B[43mswaptions\u001B[49m\n\u001B[1;32m     31\u001B[0m \u001B[43m\u001B[49m\u001B[43m]\u001B[49m\n\u001B[1;32m     33\u001B[0m \u001B[38;5;66;03m# Calculate the difference between model and market volatilities\u001B[39;00m\n\u001B[1;32m     34\u001B[0m diff \u001B[38;5;241m=\u001B[39m np\u001B[38;5;241m.\u001B[39marray(model_vols) \u001B[38;5;241m-\u001B[39m np\u001B[38;5;241m.\u001B[39marray(market_vols)\n",
      "Cell \u001B[0;32mIn[54], line 29\u001B[0m, in \u001B[0;36m<listcomp>\u001B[0;34m(.0)\u001B[0m\n\u001B[1;32m     23\u001B[0m hw_process \u001B[38;5;241m=\u001B[39m ql\u001B[38;5;241m.\u001B[39mHullWhiteProcess(term_structure, mean_reversion, volatility)\n\u001B[1;32m     24\u001B[0m \u001B[38;5;66;03m# hw_model = ql.HullWhite(hw_process)\u001B[39;00m\n\u001B[1;32m     25\u001B[0m \n\u001B[1;32m     26\u001B[0m \u001B[38;5;66;03m# Calculate model-implied volatilities\u001B[39;00m\n\u001B[1;32m     27\u001B[0m model_vols \u001B[38;5;241m=\u001B[39m [\n\u001B[1;32m     28\u001B[0m     \u001B[38;5;66;03m# np.sqrt(black_price(swaption, volatility) / swaption.annuity(0))\u001B[39;00m\n\u001B[0;32m---> 29\u001B[0m     np\u001B[38;5;241m.\u001B[39msqrt(black_price(swaption, volatility) \u001B[38;5;241m/\u001B[39m \u001B[43mswaption\u001B[49m\u001B[43m(\u001B[49m\u001B[43m)\u001B[49m)\n\u001B[1;32m     30\u001B[0m     \u001B[38;5;28;01mfor\u001B[39;00m swaption \u001B[38;5;129;01min\u001B[39;00m swaptions\n\u001B[1;32m     31\u001B[0m ]\n\u001B[1;32m     33\u001B[0m \u001B[38;5;66;03m# Calculate the difference between model and market volatilities\u001B[39;00m\n\u001B[1;32m     34\u001B[0m diff \u001B[38;5;241m=\u001B[39m np\u001B[38;5;241m.\u001B[39marray(model_vols) \u001B[38;5;241m-\u001B[39m np\u001B[38;5;241m.\u001B[39marray(market_vols)\n",
      "\u001B[0;31mTypeError\u001B[0m: 'SwaptionHelper' object is not callable"
     ]
    }
   ],
   "source": [
    "import QuantLib as ql\n",
    "import numpy as np\n",
    "from scipy.optimize import minimize\n",
    "\n",
    "\n",
    "# Define a function to calculate the Black price of a swaption\n",
    "def black_price(swaption, volatility):\n",
    "    # engine = ql.BlackSwaptionEngine(swaption.termStructure(), ql.QuoteHandle(ql.SimpleQuote(volatility)), ql.NullCalendar())\n",
    "    engine = ql.BlackSwaptionEngine(\n",
    "        term_structure, ql.QuoteHandle(ql.SimpleQuote(volatility)), ql.Actual360()\n",
    "    )\n",
    "    swaption.setPricingEngine(engine)\n",
    "    return swaption.modelValue()\n",
    "    return swaption.NPV()\n",
    "\n",
    "\n",
    "# Define the objective function for calibration\n",
    "def objective_function(params, swaptions, market_vols):\n",
    "    mean_reversion, volatility = params\n",
    "\n",
    "    # Create the Hull-White model\n",
    "    # hw_process = ql.HullWhiteProcess(swaptions[0].termStructure(), mean_reversion, volatility)\n",
    "    hw_process = ql.HullWhiteProcess(term_structure, mean_reversion, volatility)\n",
    "    # hw_model = ql.HullWhite(hw_process)\n",
    "\n",
    "    # Calculate model-implied volatilities\n",
    "    model_vols = [\n",
    "        # np.sqrt(black_price(swaption, volatility) / swaption.annuity(0))\n",
    "        np.sqrt(black_price(swaption, volatility) / swaption())\n",
    "        for swaption in swaptions\n",
    "    ]\n",
    "\n",
    "    # Calculate the difference between model and market volatilities\n",
    "    diff = np.array(model_vols) - np.array(market_vols)\n",
    "\n",
    "    # Return the sum of squared differences\n",
    "    return np.sum(diff**2)\n",
    "\n",
    "\n",
    "# Sample market data\n",
    "today = ql.Date(1, 1, 2023)\n",
    "ql.Settings.instance().evaluationDate = today\n",
    "rate = ql.QuoteHandle(ql.SimpleQuote(0.02))\n",
    "swaption_vol = ql.QuoteHandle(ql.SimpleQuote(0.2))\n",
    "swaption_helpers = []\n",
    "\n",
    "# Create a dummy yield curve for demonstration purposes\n",
    "# dates = [today + ql.Period(i, ql.Years) for i in range(1, 11)]\n",
    "# rates = [0.02 + 0.001 * i for i in range(1, 11)]\n",
    "# yield_curve = ql.ZeroCurve(dates, rates, ql.Actual360(), ql.NullCalendar(), ql.Linear(), ql.Compounded, ql.Annual)\n",
    "yield_curve = nss_curve\n",
    "# for i in range(1, 6):\n",
    "#     for j in range(1, 6):\n",
    "#         expiry = ql.Period(i, ql.Years)\n",
    "#         tenor = ql.Period(j, ql.Years)\n",
    "#         helper = ql.SwaptionHelper(expiry, tenor, ql.QuoteHandle(swaption_vol), ql.EuriborSwapIsdaFixA(ql.Period(10, ql.Years)), ql.Period(1, ql.Years), ql.Actual360(), ql.ModifiedFollowing, ql.Euribor3M(), ql.QuoteHandle(rate), ql.Period(2, ql.Days), yield_curve)\n",
    "#         swaption_helpers.append(helper)\n",
    "swaption_helpers = swaptions\n",
    "\n",
    "# Initial guess for calibration parameters\n",
    "initial_params = [0.01, 0.1]  # mean reversion, volatility\n",
    "\n",
    "# Perform calibration\n",
    "result = minimize(\n",
    "    objective_function,\n",
    "    initial_params,\n",
    "    args=(swaption_helpers, [swaption_vol.value() for _ in swaption_helpers]),\n",
    ")\n",
    "\n",
    "# Extract calibrated parameters\n",
    "calibrated_mean_reversion, calibrated_volatility = result.x\n",
    "\n",
    "print(f\"Calibrated Mean Reversion: {calibrated_mean_reversion}\")\n",
    "print(f\"Calibrated Volatility: {calibrated_volatility}\")\n",
    "\n",
    "# You can now use the calibrated parameters to price swaptions or simulate interest rate paths with the Hull-White model"
   ],
   "metadata": {
    "collapsed": false
   }
  },
  {
   "cell_type": "code",
   "execution_count": 48,
   "outputs": [],
   "source": [
    "engine = ql.BlackSwaptionEngine(\n",
    "        term_structure, ql.QuoteHandle(ql.SimpleQuote(2)), ql.Actual360()\n",
    "    )"
   ],
   "metadata": {
    "collapsed": false
   }
  },
  {
   "cell_type": "code",
   "execution_count": null,
   "outputs": [],
   "source": [],
   "metadata": {
    "collapsed": false
   }
  },
  {
   "cell_type": "code",
   "execution_count": null,
   "outputs": [],
   "source": [],
   "metadata": {
    "collapsed": false
   }
  },
  {
   "cell_type": "code",
   "execution_count": null,
   "outputs": [],
   "source": [],
   "metadata": {
    "collapsed": false
   }
  },
  {
   "cell_type": "code",
   "execution_count": null,
   "outputs": [],
   "source": [],
   "metadata": {
    "collapsed": false
   }
  },
  {
   "cell_type": "code",
   "execution_count": null,
   "outputs": [],
   "source": [],
   "metadata": {
    "collapsed": false
   }
  },
  {
   "cell_type": "code",
   "execution_count": null,
   "outputs": [],
   "source": [],
   "metadata": {
    "collapsed": false
   }
  },
  {
   "cell_type": "code",
   "execution_count": null,
   "outputs": [],
   "source": [
    "import numpy as np\n",
    "from scipy.optimize import minimize\n",
    "\n",
    "# Vasicek model definition\n",
    "def vasicek_model(params, r, dt):\n",
    "    kappa, theta, sigma = params\n",
    "    dr = kappa * (theta - r) * dt + sigma * np.sqrt(dt) * np.random.normal(size=len(r))\n",
    "    return dr\n",
    "\n",
    "# Vasicek bond pricing formula\n",
    "def bond_price(r, dt):\n",
    "    return np.exp(-r * dt)\n",
    "\n",
    "# Objective function for calibration\n",
    "def objective_function(params, market_rates, dt):\n",
    "    kappa, theta, sigma = params\n",
    "    simulated_rates = np.zeros_like(market_rates)\n",
    "\n",
    "    for i in range(1, len(market_rates)):\n",
    "        dr = vasicek_model([kappa, theta, sigma], simulated_rates[i-1], dt)\n",
    "        simulated_rates[i] = simulated_rates[i-1] + dr\n",
    "\n",
    "    model_prices = np.cumprod(bond_price(simulated_rates, dt))\n",
    "    market_prices = np.cumprod(bond_price(market_rates, dt))\n",
    "\n",
    "    error = np.sum((model_prices - market_prices)**2)\n",
    "    return error\n",
    "\n",
    "# Example data (replace this with your historical interest rate data)\n",
    "market_rates = np.array([0.02, 0.025, 0.03, 0.028, 0.032])\n",
    "dt = 1/252  # Assuming daily data, adjust as needed\n",
    "\n",
    "# Initial guess for parameters (kappa, theta, sigma)\n",
    "initial_params = [0.1, 0.02, 0.01]\n",
    "\n",
    "# Perform calibration\n",
    "result = minimize(objective_function, initial_params, args=(market_rates, dt))\n",
    "\n",
    "# Extract calibrated parameters\n",
    "calibrated_params = result.x\n",
    "\n",
    "print(\"Calibrated Parameters:\")\n",
    "print(f\"kappa: {calibrated_params[0]}\")\n",
    "print(f\"theta: {calibrated_params[1]}\")\n",
    "print(f\"sigma: {calibrated_params[2]}\")\n"
   ],
   "metadata": {
    "collapsed": false
   }
  },
  {
   "cell_type": "code",
   "execution_count": null,
   "outputs": [],
   "source": [],
   "metadata": {
    "collapsed": false
   }
  }
 ],
 "metadata": {
  "kernelspec": {
   "display_name": "Python 3",
   "language": "python",
   "name": "python3"
  },
  "language_info": {
   "codemirror_mode": {
    "name": "ipython",
    "version": 2
   },
   "file_extension": ".py",
   "mimetype": "text/x-python",
   "name": "python",
   "nbconvert_exporter": "python",
   "pygments_lexer": "ipython2",
   "version": "2.7.6"
  }
 },
 "nbformat": 4,
 "nbformat_minor": 0
}
