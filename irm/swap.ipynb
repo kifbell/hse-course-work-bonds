{
 "cells": [
  {
   "cell_type": "code",
   "execution_count": 1,
   "outputs": [],
   "source": [
    "%load_ext autoreload\n",
    "%autoreload 2"
   ],
   "metadata": {
    "collapsed": false
   }
  },
  {
   "cell_type": "code",
   "execution_count": 2,
   "outputs": [],
   "source": [],
   "metadata": {
    "collapsed": false
   }
  },
  {
   "cell_type": "code",
   "execution_count": 3,
   "outputs": [
    {
     "data": {
      "text/plain": "backtestad.instruments.irs.ir_swap.InterestRateSwap"
     },
     "execution_count": 3,
     "metadata": {},
     "output_type": "execute_result"
    }
   ],
   "source": [
    "from backtestad.instruments.irs.ir_swap import InterestRateSwap\n",
    "\n",
    "InterestRateSwap"
   ],
   "metadata": {
    "collapsed": false
   }
  },
  {
   "cell_type": "markdown",
   "source": [],
   "metadata": {
    "collapsed": false
   }
  },
  {
   "cell_type": "code",
   "execution_count": 5,
   "outputs": [],
   "source": [
    "from dependency_injector.providers import DependenciesContainer\n",
    "\n",
    "data_providers = DependenciesContainer()\n",
    "\n",
    "_interest_rates_data = data_providers.ir_data_provider"
   ],
   "metadata": {
    "collapsed": false
   }
  },
  {
   "cell_type": "code",
   "execution_count": null,
   "outputs": [],
   "source": [],
   "metadata": {
    "collapsed": false
   }
  },
  {
   "cell_type": "code",
   "execution_count": 54,
   "outputs": [],
   "source": [
    "from hacksad.misc import today\n",
    "\n",
    "import pandas as pd\n",
    "\n",
    "from backtestad.db.sql.interest_rates import get_rate\n",
    "\n",
    "end_date = today()\n",
    "\n",
    "\n",
    "rates = get_rate(\n",
    "    pd.Timestamp(\"2018-01-01\"),\n",
    "    end_date,\n",
    "[\"MOSPRIME\", \"LIBOR\", \"IRS\", \"IRS_ICAAP\", \"EURIBOR\", \"OIS_ICAAP\"] + [\"DEPO_ICAAP\"],\n",
    "    # [\"USD\", \"RUB\", \"EUR\"],\n",
    "    [\"RUB\"],\n",
    ")\n",
    "\n",
    "# rates[\"group_importance\"] = rates[\"group_code\"].map(SOURCE_PRIORITY)"
   ],
   "metadata": {
    "collapsed": false
   }
  },
  {
   "cell_type": "code",
   "execution_count": 55,
   "outputs": [],
   "source": [
    "end_date.date()\n",
    "\n",
    "\n",
    "from pandas.tseries.offsets import BDay\n",
    "\n",
    "\n",
    "def get_last_trading_day(date):\n",
    "    return date + BDay(1) - BDay(1)\n",
    "\n",
    "\n",
    "date: pd.Timestamp = pd.Timestamp(get_last_trading_day(end_date).date())\n",
    "\n",
    "rates_today = rates.set_index(\"date\").sort_index().loc[date]\n",
    "# rates_today = rates.set_index(\"date\").sort_index().loc[\"2023-11-25\"]"
   ],
   "metadata": {
    "collapsed": false
   }
  },
  {
   "cell_type": "code",
   "execution_count": 59,
   "outputs": [
    {
     "data": {
      "text/plain": "date        base_ccy  tenor\n2023-11-24  RUB       01M     0.003536\n                      01W     0.005020\n                      01Y     0.035610\n                      02W     0.003889\n                      02Y     0.008917\n                      03M     0.022274\n                      03Y     0.019290\n                      04Y     0.010267\n                      05Y     0.016801\n                      1D      0.052998\nName: rate, dtype: float64"
     },
     "execution_count": 59,
     "metadata": {},
     "output_type": "execute_result"
    }
   ],
   "source": [
    "group = rates_today.groupby([\"date\", \"base_ccy\", \"tenor\"])\n",
    "volatility = group.rate.std().dropna()\n",
    "volatility"
   ],
   "metadata": {
    "collapsed": false
   }
  },
  {
   "cell_type": "markdown",
   "source": [],
   "metadata": {
    "collapsed": false
   }
  },
  {
   "cell_type": "code",
   "execution_count": 44,
   "outputs": [
    {
     "data": {
      "text/plain": "           base_ccy tenor     rate group_code\ndate                                         \n2023-11-24      RUB   01M 0.074000  OIS_ICAAP",
      "text/html": "<div>\n<style scoped>\n    .dataframe tbody tr th:only-of-type {\n        vertical-align: middle;\n    }\n\n    .dataframe tbody tr th {\n        vertical-align: top;\n    }\n\n    .dataframe thead th {\n        text-align: right;\n    }\n</style>\n<table border=\"1\" class=\"dataframe\">\n  <thead>\n    <tr style=\"text-align: right;\">\n      <th></th>\n      <th>base_ccy</th>\n      <th>tenor</th>\n      <th>rate</th>\n      <th>group_code</th>\n    </tr>\n    <tr>\n      <th>date</th>\n      <th></th>\n      <th></th>\n      <th></th>\n      <th></th>\n    </tr>\n  </thead>\n  <tbody>\n    <tr>\n      <th>2023-11-24</th>\n      <td>RUB</td>\n      <td>01M</td>\n      <td>0.074000</td>\n      <td>OIS_ICAAP</td>\n    </tr>\n  </tbody>\n</table>\n</div>"
     },
     "execution_count": 44,
     "metadata": {},
     "output_type": "execute_result"
    }
   ],
   "source": [
    "rates[rates.tenor == \"01M\"]"
   ],
   "metadata": {
    "collapsed": false
   }
  },
  {
   "cell_type": "code",
   "execution_count": 61,
   "outputs": [
    {
     "name": "stderr",
     "output_type": "stream",
     "text": [
      "2023-11-26 16:07:57,975| ERROR   | Could not resolve IP address for s-msk-v-fxp-gp1, aborting!\n"
     ]
    },
    {
     "ename": "BaseSSHTunnelForwarderError",
     "evalue": "Could not establish session to SSH gateway",
     "output_type": "error",
     "traceback": [
      "\u001B[0;31m---------------------------------------------------------------------------\u001B[0m",
      "\u001B[0;31mBaseSSHTunnelForwarderError\u001B[0m               Traceback (most recent call last)",
      "Cell \u001B[0;32mIn[61], line 1\u001B[0m\n\u001B[0;32m----> 1\u001B[0m \u001B[43mget_rate\u001B[49m\u001B[43m(\u001B[49m\n\u001B[1;32m      2\u001B[0m \u001B[43m    \u001B[49m\u001B[43mpd\u001B[49m\u001B[38;5;241;43m.\u001B[39;49m\u001B[43mTimestamp\u001B[49m\u001B[43m(\u001B[49m\u001B[38;5;124;43m\"\u001B[39;49m\u001B[38;5;124;43m2023-11-24\u001B[39;49m\u001B[38;5;124;43m\"\u001B[39;49m\u001B[43m)\u001B[49m\u001B[43m,\u001B[49m\n\u001B[1;32m      3\u001B[0m \u001B[43m    \u001B[49m\u001B[43mend_date\u001B[49m\u001B[43m,\u001B[49m\n\u001B[1;32m      4\u001B[0m \u001B[43m    \u001B[49m\u001B[43m[\u001B[49m\u001B[38;5;124;43m\"\u001B[39;49m\u001B[38;5;124;43mMOSPRIME\u001B[39;49m\u001B[38;5;124;43m\"\u001B[39;49m\u001B[43m,\u001B[49m\u001B[43m \u001B[49m\u001B[38;5;124;43m\"\u001B[39;49m\u001B[38;5;124;43mLIBOR\u001B[39;49m\u001B[38;5;124;43m\"\u001B[39;49m\u001B[43m,\u001B[49m\u001B[43m \u001B[49m\u001B[38;5;124;43m\"\u001B[39;49m\u001B[38;5;124;43mIRS\u001B[39;49m\u001B[38;5;124;43m\"\u001B[39;49m\u001B[43m,\u001B[49m\u001B[43m \u001B[49m\u001B[38;5;124;43m\"\u001B[39;49m\u001B[38;5;124;43mIRS_ICAAP\u001B[39;49m\u001B[38;5;124;43m\"\u001B[39;49m\u001B[43m,\u001B[49m\u001B[43m \u001B[49m\u001B[38;5;124;43m\"\u001B[39;49m\u001B[38;5;124;43mEURIBOR\u001B[39;49m\u001B[38;5;124;43m\"\u001B[39;49m\u001B[43m,\u001B[49m\u001B[43m \u001B[49m\u001B[38;5;124;43m\"\u001B[39;49m\u001B[38;5;124;43mOIS_ICAAP\u001B[39;49m\u001B[38;5;124;43m\"\u001B[39;49m\u001B[43m]\u001B[49m\u001B[43m \u001B[49m\u001B[38;5;241;43m+\u001B[39;49m\u001B[43m \u001B[49m\u001B[43m[\u001B[49m\u001B[38;5;124;43m\"\u001B[39;49m\u001B[38;5;124;43mDEPO_ICAAP\u001B[39;49m\u001B[38;5;124;43m\"\u001B[39;49m\u001B[43m]\u001B[49m\u001B[43m,\u001B[49m\n\u001B[1;32m      5\u001B[0m \u001B[43m    \u001B[49m\u001B[38;5;66;43;03m# [\"USD\", \"RUB\", \"EUR\"],\u001B[39;49;00m\n\u001B[1;32m      6\u001B[0m \u001B[43m    \u001B[49m\u001B[43m[\u001B[49m\u001B[38;5;124;43m\"\u001B[39;49m\u001B[38;5;124;43mRUB\u001B[39;49m\u001B[38;5;124;43m\"\u001B[39;49m\u001B[43m]\u001B[49m\u001B[43m,\u001B[49m\n\u001B[1;32m      7\u001B[0m \u001B[43m)\u001B[49m\u001B[38;5;241m.\u001B[39mtenor\u001B[38;5;241m.\u001B[39munique()\n",
      "File \u001B[0;32m~/dev/SDK/hacksad/hacksad/log/__init__.py:218\u001B[0m, in \u001B[0;36mlog_time.<locals>._decorator.<locals>._wrapped\u001B[0;34m(*args, **kwargs)\u001B[0m\n\u001B[1;32m    215\u001B[0m     logger\u001B[38;5;241m.\u001B[39mlog(level_number, \u001B[38;5;124mf\u001B[39m\u001B[38;5;124m\"\u001B[39m\u001B[38;5;124mStarting \u001B[39m\u001B[38;5;132;01m{\u001B[39;00munwrapped\u001B[38;5;241m.\u001B[39m\u001B[38;5;18m__name__\u001B[39m\u001B[38;5;132;01m}\u001B[39;00m\u001B[38;5;124m\"\u001B[39m)\n\u001B[1;32m    217\u001B[0m start \u001B[38;5;241m=\u001B[39m dt\u001B[38;5;241m.\u001B[39mdatetime\u001B[38;5;241m.\u001B[39mnow()\n\u001B[0;32m--> 218\u001B[0m result \u001B[38;5;241m=\u001B[39m \u001B[43mfunc\u001B[49m\u001B[43m(\u001B[49m\u001B[38;5;241;43m*\u001B[39;49m\u001B[43margs\u001B[49m\u001B[43m,\u001B[49m\u001B[43m \u001B[49m\u001B[38;5;241;43m*\u001B[39;49m\u001B[38;5;241;43m*\u001B[39;49m\u001B[43mkwargs\u001B[49m\u001B[43m)\u001B[49m\n\u001B[1;32m    219\u001B[0m end \u001B[38;5;241m=\u001B[39m dt\u001B[38;5;241m.\u001B[39mdatetime\u001B[38;5;241m.\u001B[39mnow()\n\u001B[1;32m    221\u001B[0m logger\u001B[38;5;241m.\u001B[39mlog(level_number, \u001B[38;5;124mf\u001B[39m\u001B[38;5;124m\"\u001B[39m\u001B[38;5;132;01m{\u001B[39;00munwrapped\u001B[38;5;241m.\u001B[39m\u001B[38;5;18m__name__\u001B[39m\u001B[38;5;132;01m}\u001B[39;00m\u001B[38;5;124m runtime:\u001B[39m\u001B[38;5;124m\"\u001B[39m \u001B[38;5;124mf\u001B[39m\u001B[38;5;124m\"\u001B[39m\u001B[38;5;124m \u001B[39m\u001B[38;5;132;01m{\u001B[39;00mend\u001B[38;5;250m \u001B[39m\u001B[38;5;241m-\u001B[39m\u001B[38;5;250m \u001B[39mstart\u001B[38;5;132;01m}\u001B[39;00m\u001B[38;5;124m\"\u001B[39m)\n",
      "File \u001B[0;32m~/dev/SDK/hacksad/hacksad/misc.py:334\u001B[0m, in \u001B[0;36mensure_no_future_end_date.<locals>._wrapper\u001B[0;34m(*args, **kwargs)\u001B[0m\n\u001B[1;32m    331\u001B[0m \u001B[38;5;28;01mif\u001B[39;00m \u001B[38;5;124m\"\u001B[39m\u001B[38;5;124mstart_date\u001B[39m\u001B[38;5;124m\"\u001B[39m \u001B[38;5;129;01min\u001B[39;00m params:\n\u001B[1;32m    332\u001B[0m     params[\u001B[38;5;124m\"\u001B[39m\u001B[38;5;124mstart_date\u001B[39m\u001B[38;5;124m\"\u001B[39m] \u001B[38;5;241m=\u001B[39m params[\u001B[38;5;124m\"\u001B[39m\u001B[38;5;124mstart_date\u001B[39m\u001B[38;5;124m\"\u001B[39m]\u001B[38;5;241m.\u001B[39mfloor(\u001B[38;5;124m\"\u001B[39m\u001B[38;5;124mD\u001B[39m\u001B[38;5;124m\"\u001B[39m)\n\u001B[0;32m--> 334\u001B[0m \u001B[38;5;28;01mreturn\u001B[39;00m \u001B[43mfunc\u001B[49m\u001B[43m(\u001B[49m\u001B[38;5;241;43m*\u001B[39;49m\u001B[38;5;241;43m*\u001B[39;49m\u001B[43mparams\u001B[49m\u001B[43m)\u001B[49m\n",
      "File \u001B[0;32m~/dev/SDK/backtest/backtestad/db/sql/interest_rates.py:129\u001B[0m, in \u001B[0;36mget_rate\u001B[0;34m(start_date, end_date, group_codes, ccy)\u001B[0m\n\u001B[1;32m    117\u001B[0m date_filter \u001B[38;5;241m=\u001B[39m (\n\u001B[1;32m    118\u001B[0m     \u001B[38;5;124mf\u001B[39m\u001B[38;5;124m\"\u001B[39m\u001B[38;5;124mwhere date >= \u001B[39m\u001B[38;5;124m'\u001B[39m\u001B[38;5;132;01m{\u001B[39;00mstart_date\u001B[38;5;132;01m:\u001B[39;00m\u001B[38;5;124m%Y-%m-%d\u001B[39m\u001B[38;5;132;01m}\u001B[39;00m\u001B[38;5;124m'\u001B[39m\u001B[38;5;124m and date <= \u001B[39m\u001B[38;5;124m'\u001B[39m\u001B[38;5;132;01m{\u001B[39;00mend_date\u001B[38;5;132;01m:\u001B[39;00m\u001B[38;5;124m%Y-%m-%d\u001B[39m\u001B[38;5;132;01m}\u001B[39;00m\u001B[38;5;124m'\u001B[39m\u001B[38;5;124m\"\u001B[39m\n\u001B[1;32m    119\u001B[0m )\n\u001B[1;32m    121\u001B[0m sql \u001B[38;5;241m=\u001B[39m \u001B[38;5;124mf\u001B[39m\u001B[38;5;124m\"\"\"\u001B[39m\n\u001B[1;32m    122\u001B[0m \u001B[38;5;124m    SELECT date, base_ccy, tenor, rate, group_code\u001B[39m\n\u001B[1;32m    123\u001B[0m \u001B[38;5;124m    FROM \u001B[39m\u001B[38;5;132;01m{\u001B[39;00mCmCMAD\u001B[38;5;241m.\u001B[39mrates\u001B[38;5;132;01m}\u001B[39;00m\n\u001B[0;32m   (...)\u001B[0m\n\u001B[1;32m    126\u001B[0m \u001B[38;5;124m    \u001B[39m\u001B[38;5;132;01m{\u001B[39;00mccy_filter\u001B[38;5;132;01m}\u001B[39;00m\n\u001B[1;32m    127\u001B[0m \u001B[38;5;124m\u001B[39m\u001B[38;5;124m\"\"\"\u001B[39m\n\u001B[0;32m--> 129\u001B[0m \u001B[43m\u001B[49m\u001B[38;5;28;43;01mwith\u001B[39;49;00m\u001B[43m \u001B[49m\u001B[43mEngine\u001B[49m\u001B[43m(\u001B[49m\u001B[43mCmCMAD\u001B[49m\u001B[38;5;241;43m.\u001B[39;49m\u001B[43mrates\u001B[49m\u001B[38;5;241;43m.\u001B[39;49m\u001B[43mdatabase\u001B[49m\u001B[43m)\u001B[49m\u001B[43m \u001B[49m\u001B[38;5;28;43;01mas\u001B[39;49;00m\u001B[43m \u001B[49m\u001B[43mengine\u001B[49m\u001B[43m:\u001B[49m\n\u001B[1;32m    130\u001B[0m \u001B[43m    \u001B[49m\u001B[43mrates\u001B[49m\u001B[43m \u001B[49m\u001B[38;5;241;43m=\u001B[39;49m\u001B[43m \u001B[49m\u001B[43mpd\u001B[49m\u001B[38;5;241;43m.\u001B[39;49m\u001B[43mread_sql\u001B[49m\u001B[43m(\u001B[49m\u001B[43msql\u001B[49m\u001B[43m,\u001B[49m\u001B[43m \u001B[49m\u001B[43mengine\u001B[49m\u001B[43m,\u001B[49m\u001B[43m \u001B[49m\u001B[43mparse_dates\u001B[49m\u001B[38;5;241;43m=\u001B[39;49m\u001B[43m[\u001B[49m\u001B[38;5;124;43m\"\u001B[39;49m\u001B[38;5;124;43mdate\u001B[39;49m\u001B[38;5;124;43m\"\u001B[39;49m\u001B[43m]\u001B[49m\u001B[43m)\u001B[49m\n\u001B[1;32m    132\u001B[0m \u001B[38;5;28;01mif\u001B[39;00m rates\u001B[38;5;241m.\u001B[39mempty:\n",
      "File \u001B[0;32m~/dev/SDK/hacksad/hacksad/db/engine.py:303\u001B[0m, in \u001B[0;36mEngine.__enter__\u001B[0;34m(self)\u001B[0m\n\u001B[1;32m    301\u001B[0m \u001B[38;5;28;01mdef\u001B[39;00m \u001B[38;5;21m__enter__\u001B[39m(\u001B[38;5;28mself\u001B[39m):\n\u001B[1;32m    302\u001B[0m     \u001B[38;5;28;01mif\u001B[39;00m \u001B[38;5;28mself\u001B[39m\u001B[38;5;241m.\u001B[39mconfig\u001B[38;5;241m.\u001B[39muse_ssh:\n\u001B[0;32m--> 303\u001B[0m         \u001B[38;5;28;43mself\u001B[39;49m\u001B[38;5;241;43m.\u001B[39;49m\u001B[43m_ssh_server\u001B[49m\u001B[38;5;241;43m.\u001B[39;49m\u001B[43mstart\u001B[49m\u001B[43m(\u001B[49m\u001B[43m)\u001B[49m\n\u001B[1;32m    304\u001B[0m         \u001B[38;5;28mself\u001B[39m\u001B[38;5;241m.\u001B[39mlocal_port \u001B[38;5;241m=\u001B[39m \u001B[38;5;28mstr\u001B[39m(\u001B[38;5;28mself\u001B[39m\u001B[38;5;241m.\u001B[39m_ssh_server\u001B[38;5;241m.\u001B[39mlocal_bind_port)\n\u001B[1;32m    306\u001B[0m     \u001B[38;5;28;01mif\u001B[39;00m \u001B[38;5;28mself\u001B[39m\u001B[38;5;241m.\u001B[39m_using\u001B[38;5;241m.\u001B[39mget(\u001B[38;5;28mself\u001B[39m\u001B[38;5;241m.\u001B[39mconfig, \u001B[38;5;241m0\u001B[39m) \u001B[38;5;241m==\u001B[39m \u001B[38;5;241m0\u001B[39m:\n",
      "File \u001B[0;32m/Library/Frameworks/Python.framework/Versions/3.11/lib/python3.11/site-packages/sshtunnel.py:1331\u001B[0m, in \u001B[0;36mSSHTunnelForwarder.start\u001B[0;34m(self)\u001B[0m\n\u001B[1;32m   1329\u001B[0m \u001B[38;5;28mself\u001B[39m\u001B[38;5;241m.\u001B[39m_create_tunnels()\n\u001B[1;32m   1330\u001B[0m \u001B[38;5;28;01mif\u001B[39;00m \u001B[38;5;129;01mnot\u001B[39;00m \u001B[38;5;28mself\u001B[39m\u001B[38;5;241m.\u001B[39mis_active:\n\u001B[0;32m-> 1331\u001B[0m     \u001B[38;5;28;43mself\u001B[39;49m\u001B[38;5;241;43m.\u001B[39;49m\u001B[43m_raise\u001B[49m\u001B[43m(\u001B[49m\u001B[43mBaseSSHTunnelForwarderError\u001B[49m\u001B[43m,\u001B[49m\n\u001B[1;32m   1332\u001B[0m \u001B[43m                \u001B[49m\u001B[43mreason\u001B[49m\u001B[38;5;241;43m=\u001B[39;49m\u001B[38;5;124;43m'\u001B[39;49m\u001B[38;5;124;43mCould not establish session to SSH gateway\u001B[39;49m\u001B[38;5;124;43m'\u001B[39;49m\u001B[43m)\u001B[49m\n\u001B[1;32m   1333\u001B[0m \u001B[38;5;28;01mfor\u001B[39;00m _srv \u001B[38;5;129;01min\u001B[39;00m \u001B[38;5;28mself\u001B[39m\u001B[38;5;241m.\u001B[39m_server_list:\n\u001B[1;32m   1334\u001B[0m     thread \u001B[38;5;241m=\u001B[39m threading\u001B[38;5;241m.\u001B[39mThread(\n\u001B[1;32m   1335\u001B[0m         target\u001B[38;5;241m=\u001B[39m\u001B[38;5;28mself\u001B[39m\u001B[38;5;241m.\u001B[39m_serve_forever_wrapper,\n\u001B[1;32m   1336\u001B[0m         args\u001B[38;5;241m=\u001B[39m(_srv, ),\n\u001B[1;32m   1337\u001B[0m         name\u001B[38;5;241m=\u001B[39m\u001B[38;5;124m'\u001B[39m\u001B[38;5;124mSrv-\u001B[39m\u001B[38;5;132;01m{0}\u001B[39;00m\u001B[38;5;124m'\u001B[39m\u001B[38;5;241m.\u001B[39mformat(address_to_str(_srv\u001B[38;5;241m.\u001B[39mlocal_port))\n\u001B[1;32m   1338\u001B[0m     )\n",
      "File \u001B[0;32m/Library/Frameworks/Python.framework/Versions/3.11/lib/python3.11/site-packages/sshtunnel.py:1174\u001B[0m, in \u001B[0;36mSSHTunnelForwarder._raise\u001B[0;34m(self, exception, reason)\u001B[0m\n\u001B[1;32m   1172\u001B[0m \u001B[38;5;28;01mdef\u001B[39;00m \u001B[38;5;21m_raise\u001B[39m(\u001B[38;5;28mself\u001B[39m, exception\u001B[38;5;241m=\u001B[39mBaseSSHTunnelForwarderError, reason\u001B[38;5;241m=\u001B[39m\u001B[38;5;28;01mNone\u001B[39;00m):\n\u001B[1;32m   1173\u001B[0m     \u001B[38;5;28;01mif\u001B[39;00m \u001B[38;5;28mself\u001B[39m\u001B[38;5;241m.\u001B[39m_raise_fwd_exc:\n\u001B[0;32m-> 1174\u001B[0m         \u001B[38;5;28;01mraise\u001B[39;00m exception(reason)\n\u001B[1;32m   1175\u001B[0m     \u001B[38;5;28;01melse\u001B[39;00m:\n\u001B[1;32m   1176\u001B[0m         \u001B[38;5;28mself\u001B[39m\u001B[38;5;241m.\u001B[39mlogger\u001B[38;5;241m.\u001B[39merror(\u001B[38;5;28mrepr\u001B[39m(exception(reason)))\n",
      "\u001B[0;31mBaseSSHTunnelForwarderError\u001B[0m: Could not establish session to SSH gateway"
     ]
    }
   ],
   "source": [
    "get_rate(\n",
    "    pd.Timestamp(\"2023-11-24\"),\n",
    "    end_date,\n",
    "    [\"MOSPRIME\", \"LIBOR\", \"IRS\", \"IRS_ICAAP\", \"EURIBOR\", \"OIS_ICAAP\"] + [\"DEPO_ICAAP\"],\n",
    "    # [\"USD\", \"RUB\", \"EUR\"],\n",
    "    [\"RUB\"],\n",
    ")\n"
   ],
   "metadata": {
    "collapsed": false
   }
  },
  {
   "cell_type": "code",
   "execution_count": 51,
   "outputs": [
    {
     "data": {
      "text/plain": "{'OIS_ICAAP'}"
     },
     "execution_count": 51,
     "metadata": {},
     "output_type": "execute_result"
    }
   ],
   "source": [
    "{\"MOSPRIME\", \"LIBOR\", \"IRS\", \"IRS_ICAAP\", \"EURIBOR\", \"OIS_ICAAP\"} &{\"BASEFUNDING\",\n",
    " \"DEPO_ICAAP\",\n",
    " \"FUNDING RATE\",\n",
    " \"FUNDING_TREASURY_LOANS_RUB\",\n",
    " \"LIQUIDITY_COSTS_CBR\",\n",
    " \"LIQUIDITY_COSTS_FIX3M\",\n",
    " \"LIQUIDITY_COSTS_FLOATON\",\n",
    " \"OIS_ICAAP\",\n",
    " }\n"
   ],
   "metadata": {
    "collapsed": false
   }
  },
  {
   "cell_type": "code",
   "execution_count": 91,
   "outputs": [
    {
     "data": {
      "text/plain": "2023"
     },
     "execution_count": 91,
     "metadata": {},
     "output_type": "execute_result"
    }
   ],
   "source": [
    "end_date.year"
   ],
   "metadata": {
    "collapsed": false
   }
  },
  {
   "cell_type": "code",
   "execution_count": 86,
   "outputs": [
    {
     "name": "stdout",
     "output_type": "stream",
     "text": [
      "01M 0.0035355339059327407\n",
      "01W 0.005020458146424484\n",
      "01Y 0.03560989750055454\n",
      "02W 0.003889087296526015\n",
      "02Y 0.008916616510762362\n",
      "03M 0.022273863607376248\n",
      "03Y 0.01928987299076903\n",
      "04Y 0.01026719046282866\n",
      "05Y 0.016800857120992375\n",
      "1D 0.052997653249931734\n"
     ]
    }
   ],
   "source": [],
   "metadata": {
    "collapsed": false
   }
  },
  {
   "cell_type": "code",
   "execution_count": null,
   "outputs": [],
   "source": [],
   "metadata": {
    "collapsed": false
   }
  },
  {
   "cell_type": "code",
   "execution_count": 124,
   "outputs": [],
   "source": [
    "from irm.swaption import get_swaption_volatility_data\n",
    "from hacksad.misc import today\n",
    "import pandas as pd\n",
    "\n",
    "df : pd.DataFrame = get_swaption_volatility_data(today() - pd.Timedelta(days=120), today())"
   ],
   "metadata": {
    "collapsed": false
   }
  },
  {
   "cell_type": "code",
   "execution_count": 144,
   "outputs": [],
   "source": [
    "from collections import defaultdict\n",
    "import numpy as np\n",
    "\n",
    "volatility_res = defaultdict(dict)\n",
    "\n",
    "for group, d in df.groupby(['tenor', 'group_code']):\n",
    "    if (std:=d.rate.pct_change().std() * np.sqrt(252) )!=0:\n",
    "        # volatility_res[group[0]][group[1]] = std\n",
    "        volatility_res[group[0]] = std"
   ],
   "metadata": {
    "collapsed": false
   }
  },
  {
   "cell_type": "code",
   "execution_count": 145,
   "outputs": [
    {
     "ename": "ValueError",
     "evalue": "If using all scalar values, you must pass an index",
     "output_type": "error",
     "traceback": [
      "\u001B[0;31m---------------------------------------------------------------------------\u001B[0m",
      "\u001B[0;31mValueError\u001B[0m                                Traceback (most recent call last)",
      "Cell \u001B[0;32mIn[145], line 1\u001B[0m\n\u001B[0;32m----> 1\u001B[0m \u001B[38;5;28;01massert\u001B[39;00m  \u001B[43mpd\u001B[49m\u001B[38;5;241;43m.\u001B[39;49m\u001B[43mDataFrame\u001B[49m\u001B[43m(\u001B[49m\u001B[43mvolatility_res\u001B[49m\u001B[43m)\u001B[49m\u001B[38;5;241m.\u001B[39mshape[\u001B[38;5;241m0\u001B[39m]\u001B[38;5;241m==\u001B[39m\u001B[38;5;241m1\u001B[39m, \u001B[38;5;124m\"\u001B[39m\u001B[38;5;124monly one ground expected\u001B[39m\u001B[38;5;124m\"\u001B[39m\n",
      "File \u001B[0;32m/Library/Frameworks/Python.framework/Versions/3.11/lib/python3.11/site-packages/pandas/core/frame.py:614\u001B[0m, in \u001B[0;36mDataFrame.__init__\u001B[0;34m(self, data, index, columns, dtype, copy)\u001B[0m\n\u001B[1;32m    608\u001B[0m     mgr \u001B[38;5;241m=\u001B[39m \u001B[38;5;28mself\u001B[39m\u001B[38;5;241m.\u001B[39m_init_mgr(\n\u001B[1;32m    609\u001B[0m         data, axes\u001B[38;5;241m=\u001B[39m{\u001B[38;5;124m\"\u001B[39m\u001B[38;5;124mindex\u001B[39m\u001B[38;5;124m\"\u001B[39m: index, \u001B[38;5;124m\"\u001B[39m\u001B[38;5;124mcolumns\u001B[39m\u001B[38;5;124m\"\u001B[39m: columns}, dtype\u001B[38;5;241m=\u001B[39mdtype, copy\u001B[38;5;241m=\u001B[39mcopy\n\u001B[1;32m    610\u001B[0m     )\n\u001B[1;32m    612\u001B[0m \u001B[38;5;28;01melif\u001B[39;00m \u001B[38;5;28misinstance\u001B[39m(data, \u001B[38;5;28mdict\u001B[39m):\n\u001B[1;32m    613\u001B[0m     \u001B[38;5;66;03m# GH#38939 de facto copy defaults to False only in non-dict cases\u001B[39;00m\n\u001B[0;32m--> 614\u001B[0m     mgr \u001B[38;5;241m=\u001B[39m \u001B[43mdict_to_mgr\u001B[49m\u001B[43m(\u001B[49m\u001B[43mdata\u001B[49m\u001B[43m,\u001B[49m\u001B[43m \u001B[49m\u001B[43mindex\u001B[49m\u001B[43m,\u001B[49m\u001B[43m \u001B[49m\u001B[43mcolumns\u001B[49m\u001B[43m,\u001B[49m\u001B[43m \u001B[49m\u001B[43mdtype\u001B[49m\u001B[38;5;241;43m=\u001B[39;49m\u001B[43mdtype\u001B[49m\u001B[43m,\u001B[49m\u001B[43m \u001B[49m\u001B[43mcopy\u001B[49m\u001B[38;5;241;43m=\u001B[39;49m\u001B[43mcopy\u001B[49m\u001B[43m,\u001B[49m\u001B[43m \u001B[49m\u001B[43mtyp\u001B[49m\u001B[38;5;241;43m=\u001B[39;49m\u001B[43mmanager\u001B[49m\u001B[43m)\u001B[49m\n\u001B[1;32m    615\u001B[0m \u001B[38;5;28;01melif\u001B[39;00m \u001B[38;5;28misinstance\u001B[39m(data, ma\u001B[38;5;241m.\u001B[39mMaskedArray):\n\u001B[1;32m    616\u001B[0m     \u001B[38;5;28;01mimport\u001B[39;00m \u001B[38;5;21;01mnumpy\u001B[39;00m\u001B[38;5;21;01m.\u001B[39;00m\u001B[38;5;21;01mma\u001B[39;00m\u001B[38;5;21;01m.\u001B[39;00m\u001B[38;5;21;01mmrecords\u001B[39;00m \u001B[38;5;28;01mas\u001B[39;00m \u001B[38;5;21;01mmrecords\u001B[39;00m\n",
      "File \u001B[0;32m/Library/Frameworks/Python.framework/Versions/3.11/lib/python3.11/site-packages/pandas/core/internals/construction.py:464\u001B[0m, in \u001B[0;36mdict_to_mgr\u001B[0;34m(data, index, columns, dtype, typ, copy)\u001B[0m\n\u001B[1;32m    456\u001B[0m     arrays \u001B[38;5;241m=\u001B[39m [\n\u001B[1;32m    457\u001B[0m         x\n\u001B[1;32m    458\u001B[0m         \u001B[38;5;28;01mif\u001B[39;00m \u001B[38;5;129;01mnot\u001B[39;00m \u001B[38;5;28mhasattr\u001B[39m(x, \u001B[38;5;124m\"\u001B[39m\u001B[38;5;124mdtype\u001B[39m\u001B[38;5;124m\"\u001B[39m) \u001B[38;5;129;01mor\u001B[39;00m \u001B[38;5;129;01mnot\u001B[39;00m \u001B[38;5;28misinstance\u001B[39m(x\u001B[38;5;241m.\u001B[39mdtype, ExtensionDtype)\n\u001B[1;32m    459\u001B[0m         \u001B[38;5;28;01melse\u001B[39;00m x\u001B[38;5;241m.\u001B[39mcopy()\n\u001B[1;32m    460\u001B[0m         \u001B[38;5;28;01mfor\u001B[39;00m x \u001B[38;5;129;01min\u001B[39;00m arrays\n\u001B[1;32m    461\u001B[0m     ]\n\u001B[1;32m    462\u001B[0m     \u001B[38;5;66;03m# TODO: can we get rid of the dt64tz special case above?\u001B[39;00m\n\u001B[0;32m--> 464\u001B[0m \u001B[38;5;28;01mreturn\u001B[39;00m \u001B[43marrays_to_mgr\u001B[49m\u001B[43m(\u001B[49m\n\u001B[1;32m    465\u001B[0m \u001B[43m    \u001B[49m\u001B[43marrays\u001B[49m\u001B[43m,\u001B[49m\u001B[43m \u001B[49m\u001B[43mdata_names\u001B[49m\u001B[43m,\u001B[49m\u001B[43m \u001B[49m\u001B[43mindex\u001B[49m\u001B[43m,\u001B[49m\u001B[43m \u001B[49m\u001B[43mcolumns\u001B[49m\u001B[43m,\u001B[49m\u001B[43m \u001B[49m\u001B[43mdtype\u001B[49m\u001B[38;5;241;43m=\u001B[39;49m\u001B[43mdtype\u001B[49m\u001B[43m,\u001B[49m\u001B[43m \u001B[49m\u001B[43mtyp\u001B[49m\u001B[38;5;241;43m=\u001B[39;49m\u001B[43mtyp\u001B[49m\u001B[43m,\u001B[49m\u001B[43m \u001B[49m\u001B[43mconsolidate\u001B[49m\u001B[38;5;241;43m=\u001B[39;49m\u001B[43mcopy\u001B[49m\n\u001B[1;32m    466\u001B[0m \u001B[43m\u001B[49m\u001B[43m)\u001B[49m\n",
      "File \u001B[0;32m/Library/Frameworks/Python.framework/Versions/3.11/lib/python3.11/site-packages/pandas/core/internals/construction.py:119\u001B[0m, in \u001B[0;36marrays_to_mgr\u001B[0;34m(arrays, arr_names, index, columns, dtype, verify_integrity, typ, consolidate)\u001B[0m\n\u001B[1;32m    116\u001B[0m \u001B[38;5;28;01mif\u001B[39;00m verify_integrity:\n\u001B[1;32m    117\u001B[0m     \u001B[38;5;66;03m# figure out the index, if necessary\u001B[39;00m\n\u001B[1;32m    118\u001B[0m     \u001B[38;5;28;01mif\u001B[39;00m index \u001B[38;5;129;01mis\u001B[39;00m \u001B[38;5;28;01mNone\u001B[39;00m:\n\u001B[0;32m--> 119\u001B[0m         index \u001B[38;5;241m=\u001B[39m \u001B[43m_extract_index\u001B[49m\u001B[43m(\u001B[49m\u001B[43marrays\u001B[49m\u001B[43m)\u001B[49m\n\u001B[1;32m    120\u001B[0m     \u001B[38;5;28;01melse\u001B[39;00m:\n\u001B[1;32m    121\u001B[0m         index \u001B[38;5;241m=\u001B[39m ensure_index(index)\n",
      "File \u001B[0;32m/Library/Frameworks/Python.framework/Versions/3.11/lib/python3.11/site-packages/pandas/core/internals/construction.py:625\u001B[0m, in \u001B[0;36m_extract_index\u001B[0;34m(data)\u001B[0m\n\u001B[1;32m    622\u001B[0m         raw_lengths\u001B[38;5;241m.\u001B[39mappend(\u001B[38;5;28mlen\u001B[39m(val))\n\u001B[1;32m    624\u001B[0m \u001B[38;5;28;01mif\u001B[39;00m \u001B[38;5;129;01mnot\u001B[39;00m indexes \u001B[38;5;129;01mand\u001B[39;00m \u001B[38;5;129;01mnot\u001B[39;00m raw_lengths:\n\u001B[0;32m--> 625\u001B[0m     \u001B[38;5;28;01mraise\u001B[39;00m \u001B[38;5;167;01mValueError\u001B[39;00m(\u001B[38;5;124m\"\u001B[39m\u001B[38;5;124mIf using all scalar values, you must pass an index\u001B[39m\u001B[38;5;124m\"\u001B[39m)\n\u001B[1;32m    627\u001B[0m \u001B[38;5;28;01mif\u001B[39;00m have_series:\n\u001B[1;32m    628\u001B[0m     index \u001B[38;5;241m=\u001B[39m union_indexes(indexes)\n",
      "\u001B[0;31mValueError\u001B[0m: If using all scalar values, you must pass an index"
     ]
    }
   ],
   "source": [
    "assert  pd.DataFrame(volatility_res).shape[0]==1, \"only one ground expected\"\n"
   ],
   "metadata": {
    "collapsed": false
   }
  },
  {
   "cell_type": "code",
   "execution_count": 146,
   "outputs": [
    {
     "data": {
      "text/plain": "defaultdict(dict,\n            {'01M': 5.9485365479539505,\n             '01W': 4.878324208851185,\n             '01Y': 3.3278370903047803,\n             '02M': 5.537561945271509,\n             '02Y': 1.6119216950112998,\n             '03M': 5.866909015320375,\n             '03Y': 1.942956644491365,\n             '04Y': 1.96759178773918,\n             '05Y': 1.630485180885455,\n             '06M': 5.093555789622191,\n             '09M': 3.817544603135831,\n             '1D': 0.4040674913531897})"
     },
     "execution_count": 146,
     "metadata": {},
     "output_type": "execute_result"
    }
   ],
   "source": [
    "volatility_res"
   ],
   "metadata": {
    "collapsed": false
   }
  },
  {
   "cell_type": "code",
   "execution_count": null,
   "outputs": [],
   "source": [],
   "metadata": {
    "collapsed": false,
    "pycharm": {
     "is_executing": true
    }
   }
  },
  {
   "cell_type": "code",
   "execution_count": null,
   "outputs": [],
   "source": [],
   "metadata": {
    "collapsed": false,
    "pycharm": {
     "is_executing": true
    }
   }
  },
  {
   "cell_type": "code",
   "execution_count": null,
   "outputs": [],
   "source": [],
   "metadata": {
    "collapsed": false,
    "pycharm": {
     "is_executing": true
    }
   }
  },
  {
   "cell_type": "code",
   "execution_count": null,
   "outputs": [],
   "source": [],
   "metadata": {
    "collapsed": false,
    "pycharm": {
     "is_executing": true
    }
   }
  },
  {
   "cell_type": "code",
   "execution_count": 127,
   "outputs": [],
   "source": [
    "import QuantLib as ql\n",
    "import numpy as np\n",
    "from scipy.optimize import minimize\n",
    "\n",
    "# Define a function to calculate the Black price of a swaption\n",
    "def black_price(swaption, volatility):\n",
    "    engine = ql.BlackSwaptionEngine(swaption.termStructure(), ql.QuoteHandle(ql.SimpleQuote(volatility)), ql.NullCalendar())\n",
    "    swaption.setPricingEngine(engine)\n",
    "    return swaption.NPV()\n",
    "\n",
    "# Define the objective function for calibration\n",
    "def objective_function(params, swaptions, market_vols):\n",
    "    mean_reversion, volatility = params\n",
    "\n",
    "    # Create the Hull-White model\n",
    "    hw_process = ql.HullWhiteProcess(swaptions[0].termStructure(), mean_reversion, volatility)\n",
    "    hw_model = ql.HullWhite(hw_process)\n",
    "\n",
    "    # Calculate model-implied volatilities\n",
    "    model_vols = [np.sqrt(black_price(swaption, volatility) / swaption.annuity(0)) for swaption in swaptions]\n",
    "\n",
    "    # Calculate the difference between model and market volatilities\n",
    "    diff = np.array(model_vols) - np.array(market_vols)\n",
    "\n",
    "    # Return the sum of squared differences\n",
    "    return np.sum(diff ** 2)\n",
    "\n",
    "# Sample market data\n",
    "today = ql.Date(1, 1, 2023)\n",
    "ql.Settings.instance().evaluationDate = today\n",
    "rate = ql.QuoteHandle(ql.SimpleQuote(0.02))\n",
    "swaption_vol = ql.QuoteHandle(ql.SimpleQuote(0.2))\n",
    "swaption_helpers = []\n",
    "\n",
    "# Create a dummy yield curve for demonstration purposes\n",
    "dates = [today + ql.Period(i, ql.Years) for i in range(1, 11)]\n",
    "rates = [0.02 + 0.001 * i for i in range(1, 11)]\n",
    "yield_curve = ql.ZeroCurve(dates, rates, ql.Actual360(), ql.NullCalendar(), ql.Linear(), ql.Compounded, ql.Annual)\n",
    "\n",
    "for i in range(1, 6):\n",
    "    for j in range(1, 6):\n",
    "        expiry = ql.Period(i, ql.Years)\n",
    "        tenor = ql.Period(j, ql.Years)\n",
    "        helper = ql.SwaptionHelper(expiry, tenor, ql.QuoteHandle(swaption_vol), ql.EuriborSwapIsdaFixA(ql.Period(10, ql.Years)), ql.Period(1, ql.Years), ql.Actual360(), ql.ModifiedFollowing, ql.Euribor3M(), ql.QuoteHandle(rate), ql.Period(2, ql.Days), yield_curve)\n",
    "        swaption_helpers.append(helper)\n",
    "\n",
    "# Initial guess for calibration parameters\n",
    "initial_params = [0.01, 0.1]  # mean reversion, volatility\n",
    "\n",
    "# Perform calibration\n",
    "result = minimize(objective_function, initial_params, args=(swaption_helpers, [swaption_vol.value() for _ in swaption_helpers]))\n",
    "\n",
    "# Extract calibrated parameters\n",
    "calibrated_mean_reversion, calibrated_volatility = result.x\n",
    "\n",
    "print(f\"Calibrated Mean Reversion: {calibrated_mean_reversion}\")\n",
    "print(f\"Calibrated Volatility: {calibrated_volatility}\")\n",
    "\n",
    "# You can now use the calibrated parameters to price swaptions or simulate interest rate paths with the Hull-White model\n"
   ],
   "metadata": {
    "collapsed": false
   }
  }
 ],
 "metadata": {
  "kernelspec": {
   "display_name": "Python 3",
   "language": "python",
   "name": "python3"
  },
  "language_info": {
   "codemirror_mode": {
    "name": "ipython",
    "version": 2
   },
   "file_extension": ".py",
   "mimetype": "text/x-python",
   "name": "python",
   "nbconvert_exporter": "python",
   "pygments_lexer": "ipython2",
   "version": "2.7.6"
  }
 },
 "nbformat": 4,
 "nbformat_minor": 0
}
